{
 "cells": [
  {
   "cell_type": "code",
   "execution_count": 1,
   "metadata": {},
   "outputs": [],
   "source": [
    "import snowflake\n",
    "from snowflake.snowpark import Session\n",
    "import os\n",
    "from dotenv import load_dotenv"
   ]
  },
  {
   "cell_type": "code",
   "execution_count": 2,
   "metadata": {},
   "outputs": [],
   "source": [
    "# Load environment variables from .env file\n",
    "load_dotenv()\n",
    "account = os.getenv('ACCOUNT')\n",
    "password =os.getenv('PASSWORD')\n",
    "user = os.getenv('USER')\n",
    "warehouse = os.getenv('WAREHOUSE')\n",
    "database = os.getenv('DATABASE')\n",
    "schema = os.getenv('SCHEMA')"
   ]
  },
  {
   "cell_type": "code",
   "execution_count": 4,
   "metadata": {},
   "outputs": [],
   "source": [
    "connections = snowflake.connector.connect(user = user,\n",
    "                                  password = password,\n",
    "                                  account = account,\n",
    "                                  database = database,\n",
    "                                  schema = schema)"
   ]
  },
  {
   "cell_type": "code",
   "execution_count": 5,
   "metadata": {},
   "outputs": [],
   "source": [
    "cursor = connections.cursor()"
   ]
  },
  {
   "cell_type": "code",
   "execution_count": 7,
   "metadata": {},
   "outputs": [
    {
     "data": {
      "text/plain": [
       "<snowflake.connector.cursor.SnowflakeCursor at 0x1abe40e3d90>"
      ]
     },
     "execution_count": 7,
     "metadata": {},
     "output_type": "execute_result"
    }
   ],
   "source": [
    "# https://quickstarts.snowflake.com/guide/intro_to_machine_learning_with_snowpark_ml_for_python/#1\n",
    "cursor.execute(\"\"\"-- create csv format\n",
    "                    CREATE FILE FORMAT IF NOT EXISTS ML_DB.ANALYSIS.CSVFORMAT \n",
    "                        SKIP_HEADER = 1 \n",
    "                        TYPE = 'CSV';\"\"\")"
   ]
  },
  {
   "cell_type": "code",
   "execution_count": 9,
   "metadata": {},
   "outputs": [
    {
     "data": {
      "text/plain": [
       "<snowflake.connector.cursor.SnowflakeCursor at 0x1abe40e3d90>"
      ]
     },
     "execution_count": 9,
     "metadata": {},
     "output_type": "execute_result"
    }
   ],
   "source": [
    "cursor.execute(\"\"\"-- create external stage with the csv format to stage the diamonds dataset\n",
    "                CREATE STAGE IF NOT EXISTS ML_DB.ANALYSIS.DIAMONDS_ASSETS \n",
    "                    FILE_FORMAT = ML_DB.ANALYSIS.CSVFORMAT \n",
    "                    URL = 's3://sfquickstarts/intro-to-machine-learning-with-snowpark-ml-for-python/diamonds.csv';\n",
    "                    -- https://sfquickstarts.s3.us-west-1.amazonaws.com/intro-to-machine-learning-with-snowpark-ml-for-python/diamonds.csv\n",
    "                \"\"\")"
   ]
  },
  {
   "cell_type": "code",
   "execution_count": 10,
   "metadata": {},
   "outputs": [
    {
     "data": {
      "text/plain": [
       "<snowflake.connector.cursor.SnowflakeCursor at 0x1abe40e3d90>"
      ]
     },
     "execution_count": 10,
     "metadata": {},
     "output_type": "execute_result"
    }
   ],
   "source": [
    "cursor.execute(\"LS @DIAMONDS_ASSETS;\")"
   ]
  },
  {
   "cell_type": "code",
   "execution_count": 11,
   "metadata": {},
   "outputs": [
    {
     "data": {
      "text/plain": [
       "[('s3://sfquickstarts/intro-to-machine-learning-with-snowpark-ml-for-python/diamonds.csv',\n",
       "  2772143,\n",
       "  '4d3d1d4bbad5e0806dbaec425cf90196',\n",
       "  'Mon, 10 Jul 2023 22:04:47 GMT')]"
      ]
     },
     "execution_count": 11,
     "metadata": {},
     "output_type": "execute_result"
    }
   ],
   "source": [
    "cursor.fetchall()"
   ]
  }
 ],
 "metadata": {
  "kernelspec": {
   "display_name": ".venv",
   "language": "python",
   "name": "python3"
  },
  "language_info": {
   "codemirror_mode": {
    "name": "ipython",
    "version": 3
   },
   "file_extension": ".py",
   "mimetype": "text/x-python",
   "name": "python",
   "nbconvert_exporter": "python",
   "pygments_lexer": "ipython3",
   "version": "3.11.5"
  }
 },
 "nbformat": 4,
 "nbformat_minor": 2
}
